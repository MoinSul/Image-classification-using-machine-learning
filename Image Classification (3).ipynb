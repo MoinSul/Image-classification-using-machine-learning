{
 "cells": [
  {
   "cell_type": "code",
   "execution_count": 3,
   "metadata": {},
   "outputs": [],
   "source": [
    "#Importing Opencv Library\n",
    "import cv2\n",
    "import numpy as np\n",
    "import matplotlib.pyplot as plt\n",
    "import os  "
   ]
  },
  {
   "cell_type": "code",
   "execution_count": 4,
   "metadata": {},
   "outputs": [],
   "source": [
    "#Defining Location\n",
    "#Our Data Set Consist of  (car person and motorbike Images) i.e labelled Data\n",
    "loc=r'natural-images'\n",
    "\n"
   ]
  },
  {
   "cell_type": "markdown",
   "metadata": {},
   "source": [
    "Dealing with Images Using Opencv and matplotlib"
   ]
  },
  {
   "cell_type": "code",
   "execution_count": 5,
   "metadata": {},
   "outputs": [
    {
     "data": {
      "image/png": "[encoded data removed]",
      "text/plain": [
       "<Figure size 432x288 with 1 Axes>"
      ]
     },
     "metadata": {
      "needs_background": "light"
     },
     "output_type": "display_data"
    }
   ],
   "source": [
    "\n",
    "l=r'natural-images/car_0001.jpg'  #location of unknown image\n",
    "\n",
    "i=cv2.imread(l)   #function used to read pixels of image\n",
    "#i   #showing the pixels of that image\n",
    "\n",
    "plt.imshow(i)  #plotting the image\n",
    "plt.show()     #showing the image"
   ]
  },
  {
   "cell_type": "markdown",
   "metadata": {},
   "source": [
    "Concept Of Slicing"
   ]
  },
  {
   "cell_type": "code",
   "execution_count": 6,
   "metadata": {},
   "outputs": [
    {
     "data": {
      "text/plain": [
       "['car', '0674.jpg']"
      ]
     },
     "execution_count": 6,
     "metadata": {},
     "output_type": "execute_result"
    }
   ],
   "source": [
    "\n",
    "name='car_0674.jpg'    #slicing the list\n",
    "name.split('_')        #Splitting\n",
    "\n"
   ]
  },
  {
   "cell_type": "markdown",
   "metadata": {},
   "source": [
    "OS library and its functions "
   ]
  },
  {
   "cell_type": "code",
   "execution_count": 7,
   "metadata": {},
   "outputs": [
    {
     "data": {
      "text/plain": [
       "['car_0000.jpg',\n",
       " 'car_0001.jpg',\n",
       " 'car_0002.jpg',\n",
       " 'car_0003.jpg',\n",
       " 'car_0004.jpg',\n",
       " 'car_0005.jpg',\n",
       " 'car_0006.jpg',\n",
       " 'car_0007.jpg',\n",
       " 'car_0008.jpg',\n",
       " 'car_0009.jpg',\n",
       " 'car_0010.jpg',\n",
       " 'car_0011.jpg',\n",
       " 'car_0012.jpg',\n",
       " 'car_0013.jpg',\n",
       " 'car_0014.jpg',\n",
       " 'car_0015.jpg',\n",
       " 'car_0016.jpg',\n",
       " 'car_0017.jpg',\n",
       " 'car_0018.jpg',\n",
       " 'car_0019.jpg',\n",
       " 'car_0020.jpg',\n",
       " 'car_0021.jpg',\n",
       " 'car_0022.jpg',\n",
       " 'car_0023.jpg',\n",
       " 'car_0024.jpg',\n",
       " 'car_0025.jpg',\n",
       " 'car_0026.jpg',\n",
       " 'car_0027.jpg',\n",
       " 'car_0028.jpg',\n",
       " 'car_0029.jpg',\n",
       " 'car_0030.jpg',\n",
       " 'car_0031.jpg',\n",
       " 'car_0032.jpg',\n",
       " 'car_0033.jpg',\n",
       " 'car_0034.jpg',\n",
       " 'car_0035.jpg',\n",
       " 'car_0036.jpg',\n",
       " 'car_0037.jpg',\n",
       " 'car_0038.jpg',\n",
       " 'car_0039.jpg',\n",
       " 'car_0040.jpg',\n",
       " 'car_0041.jpg',\n",
       " 'car_0042.jpg',\n",
       " 'car_0043.jpg',\n",
       " 'car_0044.jpg',\n",
       " 'car_0045.jpg',\n",
       " 'car_0046.jpg',\n",
       " 'car_0047.jpg',\n",
       " 'car_0048.jpg',\n",
       " 'car_0049.jpg',\n",
       " 'car_0050.jpg',\n",
       " 'car_0051.jpg',\n",
       " 'car_0052.jpg',\n",
       " 'car_0053.jpg',\n",
       " 'car_0054.jpg',\n",
       " 'car_0055.jpg',\n",
       " 'car_0056.jpg',\n",
       " 'car_0057.jpg',\n",
       " 'car_0058.jpg',\n",
       " 'car_0059.jpg',\n",
       " 'car_0060.jpg',\n",
       " 'car_0061.jpg',\n",
       " 'car_0062.jpg',\n",
       " 'car_0063.jpg',\n",
       " 'car_0064.jpg',\n",
       " 'car_0065.jpg',\n",
       " 'car_0066.jpg',\n",
       " 'car_0067.jpg',\n",
       " 'car_0068.jpg',\n",
       " 'car_0069.jpg',\n",
       " 'car_0070.jpg',\n",
       " 'car_0071.jpg',\n",
       " 'car_0072.jpg',\n",
       " 'car_0073.jpg',\n",
       " 'car_0074.jpg',\n",
       " 'car_0075.jpg',\n",
       " 'car_0076.jpg',\n",
       " 'car_0077.jpg',\n",
       " 'car_0078.jpg',\n",
       " 'car_0079.jpg',\n",
       " 'car_0080.jpg',\n",
       " 'car_0081.jpg',\n",
       " 'car_0082.jpg',\n",
       " 'car_0083.jpg',\n",
       " 'car_0084.jpg',\n",
       " 'car_0085.jpg',\n",
       " 'car_0086.jpg',\n",
       " 'car_0087.jpg',\n",
       " 'car_0088.jpg',\n",
       " 'car_0089.jpg',\n",
       " 'car_0090.jpg',\n",
       " 'car_0091.jpg',\n",
       " 'car_0092.jpg',\n",
       " 'car_0093.jpg',\n",
       " 'car_0094.jpg',\n",
       " 'car_0095.jpg',\n",
       " 'car_0096.jpg',\n",
       " 'car_0097.jpg',\n",
       " 'car_0098.jpg',\n",
       " 'car_0099.jpg',\n",
       " 'car_0100.jpg',\n",
       " 'car_0101.jpg',\n",
       " 'car_0102.jpg',\n",
       " 'car_0103.jpg',\n",
       " 'car_0104.jpg',\n",
       " 'car_0105.jpg',\n",
       " 'car_0106.jpg',\n",
       " 'car_0107.jpg',\n",
       " 'car_0108.jpg',\n",
       " 'car_0109.jpg',\n",
       " 'car_0110.jpg',\n",
       " 'car_0111.jpg',\n",
       " 'car_0112.jpg',\n",
       " 'car_0113.jpg',\n",
       " 'car_0114.jpg',\n",
       " 'car_0115.jpg',\n",
       " 'car_0116.jpg',\n",
       " 'car_0117.jpg',\n",
       " 'car_0118.jpg',\n",
       " 'car_0119.jpg',\n",
       " 'car_0120.jpg',\n",
       " 'car_0121.jpg',\n",
       " 'car_0122.jpg',\n",
       " 'car_0123.jpg',\n",
       " 'car_0124.jpg',\n",
       " 'car_0125.jpg',\n",
       " 'car_0126.jpg',\n",
       " 'car_0127.jpg',\n",
       " 'car_0128.jpg',\n",
       " 'car_0129.jpg',\n",
       " 'car_0130.jpg',\n",
       " 'car_0131.jpg',\n",
       " 'car_0132.jpg',\n",
       " 'car_0133.jpg',\n",
       " 'car_0134.jpg',\n",
       " 'car_0135.jpg',\n",
       " 'car_0136.jpg',\n",
       " 'car_0137.jpg',\n",
       " 'car_0138.jpg',\n",
       " 'car_0139.jpg',\n",
       " 'car_0140.jpg',\n",
       " 'car_0141.jpg',\n",
       " 'car_0142.jpg',\n",
       " 'car_0143.jpg',\n",
       " 'car_0144.jpg',\n",
       " 'car_0145.jpg',\n",
       " 'car_0146.jpg',\n",
       " 'car_0147.jpg',\n",
       " 'car_0148.jpg',\n",
       " 'car_0149.jpg',\n",
       " 'car_0150.jpg',\n",
       " 'car_0151.jpg',\n",
       " 'car_0152.jpg',\n",
       " 'car_0153.jpg',\n",
       " 'car_0154.jpg',\n",
       " 'car_0155.jpg',\n",
       " 'car_0156.jpg',\n",
       " 'car_0157.jpg',\n",
       " 'car_0158.jpg',\n",
       " 'car_0159.jpg',\n",
       " 'car_0160.jpg',\n",
       " 'car_0161.jpg',\n",
       " 'car_0162.jpg',\n",
       " 'car_0163.jpg',\n",
       " 'car_0164.jpg',\n",
       " 'car_0165.jpg',\n",
       " 'car_0166.jpg',\n",
       " 'car_0167.jpg',\n",
       " 'car_0168.jpg',\n",
       " 'car_0169.jpg',\n",
       " 'car_0170.jpg',\n",
       " 'car_0171.jpg',\n",
       " 'car_0172.jpg',\n",
       " 'car_0173.jpg',\n",
       " 'car_0174.jpg',\n",
       " 'car_0175.jpg',\n",
       " 'car_0176.jpg',\n",
       " 'car_0177.jpg',\n",
       " 'car_0178.jpg',\n",
       " 'car_0179.jpg',\n",
       " 'car_0180.jpg',\n",
       " 'car_0181.jpg',\n",
       " 'car_0182.jpg',\n",
       " 'car_0183.jpg',\n",
       " 'car_0184.jpg',\n",
       " 'car_0185.jpg',\n",
       " 'car_0186.jpg',\n",
       " 'car_0187.jpg',\n",
       " 'car_0188.jpg',\n",
       " 'car_0189.jpg',\n",
       " 'car_0190.jpg',\n",
       " 'car_0191.jpg',\n",
       " 'car_0192.jpg',\n",
       " 'car_0193.jpg',\n",
       " 'car_0194.jpg',\n",
       " 'car_0195.jpg',\n",
       " 'car_0196.jpg',\n",
       " 'car_0197.jpg',\n",
       " 'car_0198.jpg',\n",
       " 'car_0199.jpg',\n",
       " 'car_0200.jpg',\n",
       " 'car_0201.jpg',\n",
       " 'car_0202.jpg',\n",
       " 'car_0203.jpg',\n",
       " 'car_0204.jpg',\n",
       " 'car_0205.jpg',\n",
       " 'car_0206.jpg',\n",
       " 'car_0207.jpg',\n",
       " 'car_0208.jpg',\n",
       " 'car_0209.jpg',\n",
       " 'car_0210.jpg',\n",
       " 'car_0211.jpg',\n",
       " 'car_0212.jpg',\n",
       " 'car_0213.jpg',\n",
       " 'car_0214.jpg',\n",
       " 'car_0215.jpg',\n",
       " 'car_0216.jpg',\n",
       " 'car_0217.jpg',\n",
       " 'car_0218.jpg',\n",
       " 'car_0219.jpg',\n",
       " 'car_0220.jpg',\n",
       " 'car_0221.jpg',\n",
       " 'car_0222.jpg',\n",
       " 'car_0223.jpg',\n",
       " 'car_0224.jpg',\n",
       " 'car_0225.jpg',\n",
       " 'car_0226.jpg',\n",
       " 'car_0227.jpg',\n",
       " 'car_0228.jpg',\n",
       " 'car_0229.jpg',\n",
       " 'car_0230.jpg',\n",
       " 'car_0231.jpg',\n",
       " 'car_0232.jpg',\n",
       " 'car_0233.jpg',\n",
       " 'car_0234.jpg',\n",
       " 'car_0235.jpg',\n",
       " 'car_0236.jpg',\n",
       " 'car_0237.jpg',\n",
       " 'car_0238.jpg',\n",
       " 'car_0239.jpg',\n",
       " 'car_0240.jpg',\n",
       " 'car_0241.jpg',\n",
       " 'car_0242.jpg',\n",
       " 'car_0243.jpg',\n",
       " 'car_0244.jpg',\n",
       " 'car_0245.jpg',\n",
       " 'car_0246.jpg',\n",
       " 'car_0247.jpg',\n",
       " 'car_0248.jpg',\n",
       " 'car_0249.jpg',\n",
       " 'car_0250.jpg',\n",
       " 'car_0251.jpg',\n",
       " 'car_0252.jpg',\n",
       " 'car_0253.jpg',\n",
       " 'car_0254.jpg',\n",
       " 'car_0255.jpg',\n",
       " 'car_0256.jpg',\n",
       " 'car_0257.jpg',\n",
       " 'car_0258.jpg',\n",
       " 'car_0259.jpg',\n",
       " 'car_0260.jpg',\n",
       " 'car_0261.jpg',\n",
       " 'car_0262.jpg',\n",
       " 'car_0263.jpg',\n",
       " 'car_0264.jpg',\n",
       " 'car_0265.jpg',\n",
       " 'car_0266.jpg',\n",
       " 'car_0267.jpg',\n",
       " 'car_0268.jpg',\n",
       " 'car_0269.jpg',\n",
       " 'car_0270.jpg',\n",
       " 'car_0271.jpg',\n",
       " 'car_0272.jpg',\n",
       " 'car_0273.jpg',\n",
       " 'car_0274.jpg',\n",
       " 'car_0275.jpg',\n",
       " 'car_0276.jpg',\n",
       " 'car_0277.jpg',\n",
       " 'car_0278.jpg',\n",
       " 'car_0279.jpg',\n",
       " 'car_0280.jpg',\n",
       " 'car_0281.jpg',\n",
       " 'car_0282.jpg',\n",
       " 'car_0283.jpg',\n",
       " 'car_0284.jpg',\n",
       " 'car_0285.jpg',\n",
       " 'car_0286.jpg',\n",
       " 'car_0287.jpg',\n",
       " 'car_0288.jpg',\n",
       " 'car_0289.jpg',\n",
       " 'car_0290.jpg',\n",
       " 'car_0291.jpg',\n",
       " 'car_0292.jpg',\n",
       " 'car_0293.jpg',\n",
       " 'car_0294.jpg',\n",
       " 'car_0295.jpg',\n",
       " 'car_0296.jpg',\n",
       " 'car_0297.jpg',\n",
       " 'car_0298.jpg',\n",
       " 'car_0299.jpg',\n",
       " 'car_0300.jpg',\n",
       " 'car_0301.jpg',\n",
       " 'car_0302.jpg',\n",
       " 'car_0303.jpg',\n",
       " 'car_0304.jpg',\n",
       " 'car_0305.jpg',\n",
       " 'car_0306.jpg',\n",
       " 'car_0307.jpg',\n",
       " 'car_0308.jpg',\n",
       " 'car_0309.jpg',\n",
       " 'car_0310.jpg',\n",
       " 'car_0311.jpg',\n",
       " 'car_0312.jpg',\n",
       " 'car_0313.jpg',\n",
       " 'car_0314.jpg',\n",
       " 'car_0315.jpg',\n",
       " 'car_0316.jpg',\n",
       " 'car_0317.jpg',\n",
       " 'car_0318.jpg',\n",
       " 'car_0319.jpg',\n",
       " 'car_0320.jpg',\n",
       " 'car_0321.jpg',\n",
       " 'car_0322.jpg',\n",
       " 'car_0323.jpg',\n",
       " 'car_0324.jpg',\n",
       " 'car_0325.jpg',\n",
       " 'car_0326.jpg',\n",
       " 'car_0327.jpg',\n",
       " 'car_0328.jpg',\n",
       " 'car_0329.jpg',\n",
       " 'car_0330.jpg',\n",
       " 'car_0331.jpg',\n",
       " 'car_0332.jpg',\n",
       " 'car_0333.jpg',\n",
       " 'car_0334.jpg',\n",
       " 'car_0335.jpg',\n",
       " 'car_0336.jpg',\n",
       " 'car_0337.jpg',\n",
       " 'car_0338.jpg',\n",
       " 'car_0339.jpg',\n",
       " 'car_0340.jpg',\n",
       " 'car_0341.jpg',\n",
       " 'car_0342.jpg',\n",
       " 'car_0343.jpg',\n",
       " 'car_0344.jpg',\n",
       " 'car_0345.jpg',\n",
       " 'car_0346.jpg',\n",
       " 'car_0347.jpg',\n",
       " 'car_0348.jpg',\n",
       " 'car_0349.jpg',\n",
       " 'car_0350.jpg',\n",
       " 'car_0351.jpg',\n",
       " 'car_0352.jpg',\n",
       " 'car_0353.jpg',\n",
       " 'car_0354.jpg',\n",
       " 'car_0355.jpg',\n",
       " 'car_0356.jpg',\n",
       " 'car_0357.jpg',\n",
       " 'car_0358.jpg',\n",
       " 'car_0359.jpg',\n",
       " 'car_0360.jpg',\n",
       " 'car_0361.jpg',\n",
       " 'car_0362.jpg',\n",
       " 'car_0363.jpg',\n",
       " 'car_0364.jpg',\n",
       " 'car_0365.jpg',\n",
       " 'car_0366.jpg',\n",
       " 'car_0367.jpg',\n",
       " 'car_0368.jpg',\n",
       " 'car_0369.jpg',\n",
       " 'car_0370.jpg',\n",
       " 'car_0371.jpg',\n",
       " 'car_0372.jpg',\n",
       " 'car_0373.jpg',\n",
       " 'car_0374.jpg',\n",
       " 'car_0375.jpg',\n",
       " 'car_0376.jpg',\n",
       " 'car_0377.jpg',\n",
       " 'car_0378.jpg',\n",
       " 'car_0379.jpg',\n",
       " 'car_0380.jpg',\n",
       " 'car_0381.jpg',\n",
       " 'car_0382.jpg',\n",
       " 'car_0383.jpg',\n",
       " 'car_0384.jpg',\n",
       " 'car_0385.jpg',\n",
       " 'car_0386.jpg',\n",
       " 'car_0387.jpg',\n",
       " 'car_0388.jpg',\n",
       " 'car_0389.jpg',\n",
       " 'car_0390.jpg',\n",
       " 'car_0391.jpg',\n",
       " 'car_0392.jpg',\n",
       " 'car_0393.jpg',\n",
       " 'car_0394.jpg',\n",
       " 'car_0395.jpg',\n",
       " 'car_0396.jpg',\n",
       " 'car_0397.jpg',\n",
       " 'car_0398.jpg',\n",
       " 'car_0399.jpg',\n",
       " 'car_0400.jpg',\n",
       " 'car_0401.jpg',\n",
       " 'car_0402.jpg',\n",
       " 'car_0403.jpg',\n",
       " 'car_0404.jpg',\n",
       " 'car_0405.jpg',\n",
       " 'car_0406.jpg',\n",
       " 'car_0407.jpg',\n",
       " 'car_0408.jpg',\n",
       " 'car_0409.jpg',\n",
       " 'car_0410.jpg',\n",
       " 'car_0411.jpg',\n",
       " 'car_0412.jpg',\n",
       " 'car_0413.jpg',\n",
       " 'car_0414.jpg',\n",
       " 'car_0415.jpg',\n",
       " 'car_0416.jpg',\n",
       " 'car_0417.jpg',\n",
       " 'car_0418.jpg',\n",
       " 'car_0419.jpg',\n",
       " 'car_0420.jpg',\n",
       " 'car_0421.jpg',\n",
       " 'car_0422.jpg',\n",
       " 'car_0423.jpg',\n",
       " 'car_0424.jpg',\n",
       " 'car_0425.jpg',\n",
       " 'car_0426.jpg',\n",
       " 'car_0427.jpg',\n",
       " 'car_0428.jpg',\n",
       " 'car_0429.jpg',\n",
       " 'car_0430.jpg',\n",
       " 'car_0431.jpg',\n",
       " 'car_0432.jpg',\n",
       " 'car_0433.jpg',\n",
       " 'car_0434.jpg',\n",
       " 'car_0435.jpg',\n",
       " 'car_0436.jpg',\n",
       " 'car_0437.jpg',\n",
       " 'car_0438.jpg',\n",
       " 'car_0439.jpg',\n",
       " 'car_0440.jpg',\n",
       " 'car_0441.jpg',\n",
       " 'car_0442.jpg',\n",
       " 'car_0443.jpg',\n",
       " 'car_0444.jpg',\n",
       " 'car_0445.jpg',\n",
       " 'car_0446.jpg',\n",
       " 'car_0447.jpg',\n",
       " 'car_0448.jpg',\n",
       " 'car_0449.jpg',\n",
       " 'car_0450.jpg',\n",
       " 'car_0451.jpg',\n",
       " 'car_0452.jpg',\n",
       " 'car_0453.jpg',\n",
       " 'car_0454.jpg',\n",
       " 'car_0455.jpg',\n",
       " 'car_0456.jpg',\n",
       " 'car_0457.jpg',\n",
       " 'car_0458.jpg',\n",
       " 'car_0459.jpg',\n",
       " 'car_0460.jpg',\n",
       " 'car_0461.jpg',\n",
       " 'car_0462.jpg',\n",
       " 'car_0463.jpg',\n",
       " 'car_0464.jpg',\n",
       " 'car_0465.jpg',\n",
       " 'car_0466.jpg',\n",
       " 'car_0467.jpg',\n",
       " 'car_0468.jpg',\n",
       " 'car_0469.jpg',\n",
       " 'car_0470.jpg',\n",
       " 'car_0471.jpg',\n",
       " 'car_0472.jpg',\n",
       " 'car_0473.jpg',\n",
       " 'car_0474.jpg',\n",
       " 'car_0475.jpg',\n",
       " 'car_0476.jpg',\n",
       " 'car_0477.jpg',\n",
       " 'car_0478.jpg',\n",
       " 'car_0479.jpg',\n",
       " 'car_0480.jpg',\n",
       " 'car_0481.jpg',\n",
       " 'car_0482.jpg',\n",
       " 'car_0483.jpg',\n",
       " 'car_0484.jpg',\n",
       " 'car_0485.jpg',\n",
       " 'car_0486.jpg',\n",
       " 'car_0487.jpg',\n",
       " 'car_0488.jpg',\n",
       " 'car_0489.jpg',\n",
       " 'car_0490.jpg',\n",
       " 'car_0491.jpg',\n",
       " 'car_0492.jpg',\n",
       " 'car_0493.jpg',\n",
       " 'car_0494.jpg',\n",
       " 'car_0495.jpg',\n",
       " 'car_0496.jpg',\n",
       " 'car_0497.jpg',\n",
       " 'car_0498.jpg',\n",
       " 'car_0499.jpg',\n",
       " 'car_0500.jpg',\n",
       " 'car_0501.jpg',\n",
       " 'car_0502.jpg',\n",
       " 'car_0503.jpg',\n",
       " 'car_0504.jpg',\n",
       " 'car_0505.jpg',\n",
       " 'car_0506.jpg',\n",
       " 'car_0507.jpg',\n",
       " 'car_0508.jpg',\n",
       " 'car_0509.jpg',\n",
       " 'car_0510.jpg',\n",
       " 'car_0511.jpg',\n",
       " 'car_0512.jpg',\n",
       " 'car_0513.jpg',\n",
       " 'car_0514.jpg',\n",
       " 'car_0515.jpg',\n",
       " 'car_0516.jpg',\n",
       " 'car_0517.jpg',\n",
       " 'car_0518.jpg',\n",
       " 'car_0519.jpg',\n",
       " 'car_0520.jpg',\n",
       " 'car_0521.jpg',\n",
       " 'car_0522.jpg',\n",
       " 'car_0523.jpg',\n",
       " 'car_0524.jpg',\n",
       " 'car_0525.jpg',\n",
       " 'car_0526.jpg',\n",
       " 'car_0527.jpg',\n",
       " 'car_0528.jpg',\n",
       " 'car_0529.jpg',\n",
       " 'car_0530.jpg',\n",
       " 'car_0531.jpg',\n",
       " 'car_0532.jpg',\n",
       " 'car_0533.jpg',\n",
       " 'car_0534.jpg',\n",
       " 'car_0535.jpg',\n",
       " 'car_0536.jpg',\n",
       " 'car_0537.jpg',\n",
       " 'car_0538.jpg',\n",
       " 'car_0539.jpg',\n",
       " 'car_0540.jpg',\n",
       " 'car_0541.jpg',\n",
       " 'car_0542.jpg',\n",
       " 'car_0543.jpg',\n",
       " 'car_0544.jpg',\n",
       " 'car_0545.jpg',\n",
       " 'car_0546.jpg',\n",
       " 'car_0547.jpg',\n",
       " 'car_0548.jpg',\n",
       " 'car_0549.jpg',\n",
       " 'car_0550.jpg',\n",
       " 'car_0551.jpg',\n",
       " 'car_0552.jpg',\n",
       " 'car_0553.jpg',\n",
       " 'car_0554.jpg',\n",
       " 'car_0555.jpg',\n",
       " 'car_0556.jpg',\n",
       " 'car_0557.jpg',\n",
       " 'car_0558.jpg',\n",
       " 'car_0559.jpg',\n",
       " 'car_0560.jpg',\n",
       " 'car_0561.jpg',\n",
       " 'car_0562.jpg',\n",
       " 'car_0563.jpg',\n",
       " 'car_0564.jpg',\n",
       " 'car_0565.jpg',\n",
       " 'car_0566.jpg',\n",
       " 'car_0567.jpg',\n",
       " 'car_0568.jpg',\n",
       " 'car_0569.jpg',\n",
       " 'car_0570.jpg',\n",
       " 'car_0571.jpg',\n",
       " 'car_0572.jpg',\n",
       " 'car_0573.jpg',\n",
       " 'car_0574.jpg',\n",
       " 'car_0575.jpg',\n",
       " 'car_0576.jpg',\n",
       " 'car_0577.jpg',\n",
       " 'car_0578.jpg',\n",
       " 'car_0579.jpg',\n",
       " 'car_0580.jpg',\n",
       " 'car_0581.jpg',\n",
       " 'car_0582.jpg',\n",
       " 'car_0583.jpg',\n",
       " 'car_0584.jpg',\n",
       " 'car_0585.jpg',\n",
       " 'car_0586.jpg',\n",
       " 'car_0587.jpg',\n",
       " 'car_0588.jpg',\n",
       " 'car_0589.jpg',\n",
       " 'car_0590.jpg',\n",
       " 'car_0591.jpg',\n",
       " 'car_0592.jpg',\n",
       " 'car_0593.jpg',\n",
       " 'car_0594.jpg',\n",
       " 'car_0595.jpg',\n",
       " 'car_0596.jpg',\n",
       " 'car_0597.jpg',\n",
       " 'car_0598.jpg',\n",
       " 'car_0599.jpg',\n",
       " 'car_0600.jpg',\n",
       " 'car_0601.jpg',\n",
       " 'car_0602.jpg',\n",
       " 'car_0603.jpg',\n",
       " 'car_0604.jpg',\n",
       " 'car_0605.jpg',\n",
       " 'car_0606.jpg',\n",
       " 'car_0607.jpg',\n",
       " 'car_0608.jpg',\n",
       " 'car_0609.jpg',\n",
       " 'car_0610.jpg',\n",
       " 'car_0611.jpg',\n",
       " 'car_0612.jpg',\n",
       " 'car_0613.jpg',\n",
       " 'car_0614.jpg',\n",
       " 'car_0615.jpg',\n",
       " 'car_0616.jpg',\n",
       " 'car_0617.jpg',\n",
       " 'car_0618.jpg',\n",
       " 'car_0619.jpg',\n",
       " 'car_0620.jpg',\n",
       " 'car_0621.jpg',\n",
       " 'car_0622.jpg',\n",
       " 'car_0623.jpg',\n",
       " 'car_0624.jpg',\n",
       " 'car_0625.jpg',\n",
       " 'car_0626.jpg',\n",
       " 'car_0627.jpg',\n",
       " 'car_0628.jpg',\n",
       " 'car_0629.jpg',\n",
       " 'car_0630.jpg',\n",
       " 'car_0631.jpg',\n",
       " 'car_0632.jpg',\n",
       " 'car_0633.jpg',\n",
       " 'car_0634.jpg',\n",
       " 'car_0635.jpg',\n",
       " 'car_0636.jpg',\n",
       " 'car_0637.jpg',\n",
       " 'car_0638.jpg',\n",
       " 'car_0639.jpg',\n",
       " 'car_0640.jpg',\n",
       " 'car_0641.jpg',\n",
       " 'car_0642.jpg',\n",
       " 'car_0643.jpg',\n",
       " 'car_0644.jpg',\n",
       " 'car_0645.jpg',\n",
       " 'car_0646.jpg',\n",
       " 'car_0647.jpg',\n",
       " 'car_0648.jpg',\n",
       " 'car_0649.jpg',\n",
       " 'car_0650.jpg',\n",
       " 'car_0651.jpg',\n",
       " 'car_0652.jpg',\n",
       " 'car_0653.jpg',\n",
       " 'car_0654.jpg',\n",
       " 'car_0655.jpg',\n",
       " 'car_0656.jpg',\n",
       " 'car_0657.jpg',\n",
       " 'car_0658.jpg',\n",
       " 'car_0659.jpg',\n",
       " 'car_0660.jpg',\n",
       " 'car_0661.jpg',\n",
       " 'car_0662.jpg',\n",
       " 'car_0663.jpg',\n",
       " 'car_0664.jpg',\n",
       " 'car_0665.jpg',\n",
       " 'car_0666.jpg',\n",
       " 'car_0667.jpg',\n",
       " 'car_0668.jpg',\n",
       " 'car_0669.jpg',\n",
       " 'car_0670.jpg',\n",
       " 'car_0671.jpg',\n",
       " 'car_0672.jpg',\n",
       " 'car_0673.jpg',\n",
       " 'car_0674.jpg',\n",
       " 'car_0675.jpg',\n",
       " 'car_0676.jpg',\n",
       " 'car_0677.jpg',\n",
       " 'car_0678.jpg',\n",
       " 'car_0679.jpg',\n",
       " 'car_0680.jpg',\n",
       " 'car_0681.jpg',\n",
       " 'car_0682.jpg',\n",
       " 'car_0683.jpg',\n",
       " 'car_0684.jpg',\n",
       " 'car_0685.jpg',\n",
       " 'car_0686.jpg',\n",
       " 'car_0687.jpg',\n",
       " 'car_0688.jpg',\n",
       " 'car_0689.jpg',\n",
       " 'car_0690.jpg',\n",
       " 'car_0691.jpg',\n",
       " 'car_0692.jpg',\n",
       " 'car_0693.jpg',\n",
       " 'car_0694.jpg',\n",
       " 'car_0695.jpg',\n",
       " 'car_0696.jpg',\n",
       " 'car_0697.jpg',\n",
       " 'car_0698.jpg',\n",
       " 'car_0699.jpg',\n",
       " 'car_0700.jpg',\n",
       " 'car_0701.jpg',\n",
       " 'car_0702.jpg',\n",
       " 'car_0703.jpg',\n",
       " 'car_0704.jpg',\n",
       " 'car_0705.jpg',\n",
       " 'car_0706.jpg',\n",
       " 'car_0707.jpg',\n",
       " 'car_0708.jpg',\n",
       " 'car_0709.jpg',\n",
       " 'car_0710.jpg',\n",
       " 'car_0711.jpg',\n",
       " 'car_0712.jpg',\n",
       " 'car_0713.jpg',\n",
       " 'car_0714.jpg',\n",
       " 'car_0715.jpg',\n",
       " 'car_0716.jpg',\n",
       " 'car_0717.jpg',\n",
       " 'car_0718.jpg',\n",
       " 'car_0719.jpg',\n",
       " 'car_0720.jpg',\n",
       " 'car_0721.jpg',\n",
       " 'car_0722.jpg',\n",
       " 'car_0723.jpg',\n",
       " 'car_0724.jpg',\n",
       " 'car_0725.jpg',\n",
       " 'car_0726.jpg',\n",
       " 'car_0727.jpg',\n",
       " 'car_0728.jpg',\n",
       " 'car_0729.jpg',\n",
       " 'car_0730.jpg',\n",
       " 'car_0731.jpg',\n",
       " 'car_0732.jpg',\n",
       " 'car_0733.jpg',\n",
       " 'car_0734.jpg',\n",
       " 'car_0735.jpg',\n",
       " 'car_0736.jpg',\n",
       " 'car_0737.jpg',\n",
       " 'car_0738.jpg',\n",
       " 'car_0739.jpg',\n",
       " 'car_0740.jpg',\n",
       " 'car_0741.jpg',\n",
       " 'car_0742.jpg',\n",
       " 'car_0743.jpg',\n",
       " 'car_0744.jpg',\n",
       " 'car_0745.jpg',\n",
       " 'car_0746.jpg',\n",
       " 'car_0747.jpg',\n",
       " 'car_0748.jpg',\n",
       " 'car_0749.jpg',\n",
       " 'car_0750.jpg',\n",
       " 'car_0751.jpg',\n",
       " 'car_0752.jpg',\n",
       " 'car_0753.jpg',\n",
       " 'car_0754.jpg',\n",
       " 'car_0755.jpg',\n",
       " 'car_0756.jpg',\n",
       " 'car_0757.jpg',\n",
       " 'car_0758.jpg',\n",
       " 'car_0759.jpg',\n",
       " 'car_0760.jpg',\n",
       " 'car_0761.jpg',\n",
       " 'car_0762.jpg',\n",
       " 'car_0763.jpg',\n",
       " 'car_0764.jpg',\n",
       " 'car_0765.jpg',\n",
       " 'car_0766.jpg',\n",
       " 'car_0767.jpg',\n",
       " 'car_0768.jpg',\n",
       " 'car_0769.jpg',\n",
       " 'car_0770.jpg',\n",
       " 'car_0771.jpg',\n",
       " 'car_0772.jpg',\n",
       " 'car_0773.jpg',\n",
       " 'car_0774.jpg',\n",
       " 'car_0775.jpg',\n",
       " 'car_0776.jpg',\n",
       " 'car_0777.jpg',\n",
       " 'car_0778.jpg',\n",
       " 'car_0779.jpg',\n",
       " 'car_0780.jpg',\n",
       " 'car_0781.jpg',\n",
       " 'car_0782.jpg',\n",
       " 'car_0783.jpg',\n",
       " 'car_0784.jpg',\n",
       " 'car_0785.jpg',\n",
       " 'car_0786.jpg',\n",
       " 'car_0787.jpg',\n",
       " 'car_0788.jpg',\n",
       " 'car_0789.jpg',\n",
       " 'car_0790.jpg',\n",
       " 'car_0791.jpg',\n",
       " 'car_0792.jpg',\n",
       " 'car_0793.jpg',\n",
       " 'car_0794.jpg',\n",
       " 'car_0795.jpg',\n",
       " 'car_0796.jpg',\n",
       " 'car_0797.jpg',\n",
       " 'car_0798.jpg',\n",
       " 'car_0799.jpg',\n",
       " 'car_0800.jpg',\n",
       " 'car_0801.jpg',\n",
       " 'car_0802.jpg',\n",
       " 'car_0803.jpg',\n",
       " 'car_0804.jpg',\n",
       " 'car_0805.jpg',\n",
       " 'car_0806.jpg',\n",
       " 'car_0807.jpg',\n",
       " 'car_0808.jpg',\n",
       " 'car_0809.jpg',\n",
       " 'car_0810.jpg',\n",
       " 'car_0811.jpg',\n",
       " 'car_0812.jpg',\n",
       " 'car_0813.jpg',\n",
       " 'car_0814.jpg',\n",
       " 'car_0815.jpg',\n",
       " 'car_0816.jpg',\n",
       " 'car_0817.jpg',\n",
       " 'car_0818.jpg',\n",
       " 'car_0819.jpg',\n",
       " 'car_0820.jpg',\n",
       " 'car_0821.jpg',\n",
       " 'car_0822.jpg',\n",
       " 'car_0823.jpg',\n",
       " 'car_0824.jpg',\n",
       " 'car_0825.jpg',\n",
       " 'car_0826.jpg',\n",
       " 'car_0827.jpg',\n",
       " 'car_0828.jpg',\n",
       " 'car_0829.jpg',\n",
       " 'car_0830.jpg',\n",
       " 'car_0831.jpg',\n",
       " 'car_0832.jpg',\n",
       " 'car_0833.jpg',\n",
       " 'car_0834.jpg',\n",
       " 'car_0835.jpg',\n",
       " 'car_0836.jpg',\n",
       " 'car_0837.jpg',\n",
       " 'car_0838.jpg',\n",
       " 'car_0839.jpg',\n",
       " 'car_0840.jpg',\n",
       " 'car_0841.jpg',\n",
       " 'car_0842.jpg',\n",
       " 'car_0843.jpg',\n",
       " 'car_0844.jpg',\n",
       " 'car_0845.jpg',\n",
       " 'car_0846.jpg',\n",
       " 'car_0847.jpg',\n",
       " 'car_0848.jpg',\n",
       " 'car_0849.jpg',\n",
       " 'car_0850.jpg',\n",
       " 'car_0851.jpg',\n",
       " 'car_0852.jpg',\n",
       " 'car_0853.jpg',\n",
       " 'car_0854.jpg',\n",
       " 'car_0855.jpg',\n",
       " 'car_0856.jpg',\n",
       " 'car_0857.jpg',\n",
       " 'car_0858.jpg',\n",
       " 'car_0859.jpg',\n",
       " 'car_0860.jpg',\n",
       " 'car_0861.jpg',\n",
       " 'car_0862.jpg',\n",
       " 'car_0863.jpg',\n",
       " 'car_0864.jpg',\n",
       " 'car_0865.jpg',\n",
       " 'car_0866.jpg',\n",
       " 'car_0867.jpg',\n",
       " 'car_0868.jpg',\n",
       " 'car_0869.jpg',\n",
       " 'car_0870.jpg',\n",
       " 'car_0871.jpg',\n",
       " 'car_0872.jpg',\n",
       " 'car_0873.jpg',\n",
       " 'car_0874.jpg',\n",
       " 'car_0875.jpg',\n",
       " 'car_0876.jpg',\n",
       " 'car_0877.jpg',\n",
       " 'car_0878.jpg',\n",
       " 'car_0879.jpg',\n",
       " 'car_0880.jpg',\n",
       " 'car_0881.jpg',\n",
       " 'car_0882.jpg',\n",
       " 'car_0883.jpg',\n",
       " 'car_0884.jpg',\n",
       " 'car_0885.jpg',\n",
       " 'car_0886.jpg',\n",
       " 'car_0887.jpg',\n",
       " 'car_0888.jpg',\n",
       " 'car_0889.jpg',\n",
       " 'car_0890.jpg',\n",
       " 'car_0891.jpg',\n",
       " 'car_0892.jpg',\n",
       " 'car_0893.jpg',\n",
       " 'car_0894.jpg',\n",
       " 'car_0895.jpg',\n",
       " 'car_0896.jpg',\n",
       " 'car_0897.jpg',\n",
       " 'car_0898.jpg',\n",
       " 'car_0899.jpg',\n",
       " 'car_0900.jpg',\n",
       " 'car_0901.jpg',\n",
       " 'car_0902.jpg',\n",
       " 'car_0903.jpg',\n",
       " 'car_0904.jpg',\n",
       " 'car_0905.jpg',\n",
       " 'car_0906.jpg',\n",
       " 'car_0907.jpg',\n",
       " 'car_0908.jpg',\n",
       " 'car_0909.jpg',\n",
       " 'car_0910.jpg',\n",
       " 'car_0911.jpg',\n",
       " 'car_0912.jpg',\n",
       " 'car_0913.jpg',\n",
       " 'car_0914.jpg',\n",
       " 'car_0915.jpg',\n",
       " 'car_0916.jpg',\n",
       " 'car_0917.jpg',\n",
       " 'car_0918.jpg',\n",
       " 'car_0919.jpg',\n",
       " 'car_0920.jpg',\n",
       " 'car_0921.jpg',\n",
       " 'car_0922.jpg',\n",
       " 'car_0923.jpg',\n",
       " 'car_0924.jpg',\n",
       " 'car_0925.jpg',\n",
       " 'car_0926.jpg',\n",
       " 'car_0927.jpg',\n",
       " 'car_0928.jpg',\n",
       " 'car_0929.jpg',\n",
       " 'car_0930.jpg',\n",
       " 'car_0931.jpg',\n",
       " 'car_0932.jpg',\n",
       " 'car_0933.jpg',\n",
       " 'car_0934.jpg',\n",
       " 'car_0935.jpg',\n",
       " 'car_0936.jpg',\n",
       " 'car_0937.jpg',\n",
       " 'car_0938.jpg',\n",
       " 'car_0939.jpg',\n",
       " 'car_0940.jpg',\n",
       " 'car_0941.jpg',\n",
       " 'car_0942.jpg',\n",
       " 'car_0943.jpg',\n",
       " 'car_0944.jpg',\n",
       " 'car_0945.jpg',\n",
       " 'car_0946.jpg',\n",
       " 'car_0947.jpg',\n",
       " 'car_0948.jpg',\n",
       " 'car_0949.jpg',\n",
       " 'car_0950.jpg',\n",
       " 'car_0951.jpg',\n",
       " 'car_0952.jpg',\n",
       " 'car_0953.jpg',\n",
       " 'car_0954.jpg',\n",
       " 'car_0955.jpg',\n",
       " 'car_0956.jpg',\n",
       " 'car_0957.jpg',\n",
       " 'car_0958.jpg',\n",
       " 'car_0959.jpg',\n",
       " 'car_0960.jpg',\n",
       " 'car_0961.jpg',\n",
       " 'car_0962.jpg',\n",
       " 'car_0963.jpg',\n",
       " 'car_0964.jpg',\n",
       " 'car_0965.jpg',\n",
       " 'car_0966.jpg',\n",
       " 'car_0967.jpg',\n",
       " 'motorbike_0000.jpg',\n",
       " 'motorbike_0001.jpg',\n",
       " 'motorbike_0002.jpg',\n",
       " 'motorbike_0003.jpg',\n",
       " 'motorbike_0004.jpg',\n",
       " 'motorbike_0005.jpg',\n",
       " 'motorbike_0006.jpg',\n",
       " 'motorbike_0007.jpg',\n",
       " 'motorbike_0008.jpg',\n",
       " 'motorbike_0009.jpg',\n",
       " 'motorbike_0010.jpg',\n",
       " 'motorbike_0011.jpg',\n",
       " 'motorbike_0012.jpg',\n",
       " 'motorbike_0013.jpg',\n",
       " 'motorbike_0014.jpg',\n",
       " 'motorbike_0015.jpg',\n",
       " 'motorbike_0016.jpg',\n",
       " 'motorbike_0017.jpg',\n",
       " 'motorbike_0018.jpg',\n",
       " 'motorbike_0019.jpg',\n",
       " 'motorbike_0020.jpg',\n",
       " 'motorbike_0021.jpg',\n",
       " 'motorbike_0022.jpg',\n",
       " 'motorbike_0023.jpg',\n",
       " 'motorbike_0024.jpg',\n",
       " 'motorbike_0025.jpg',\n",
       " 'motorbike_0026.jpg',\n",
       " 'motorbike_0027.jpg',\n",
       " 'motorbike_0028.jpg',\n",
       " 'motorbike_0029.jpg',\n",
       " 'motorbike_0030.jpg',\n",
       " 'motorbike_0031.jpg',\n",
       " ...]"
      ]
     },
     "execution_count": 7,
     "metadata": {},
     "output_type": "execute_result"
    }
   ],
   "source": [
    "#Importing OS Library for dealing with the Directory(ALL Files at the same time )\n",
    "import os\n",
    "\n",
    "os.listdir(loc)  #Listdir displays all files in current directory\n",
    "\n",
    "\n"
   ]
  },
  {
   "cell_type": "code",
   "execution_count": 8,
   "metadata": {},
   "outputs": [
    {
     "data": {
      "text/plain": [
       "<module 'ntpath' from 'C:\\\\Users\\\\harsh\\\\Anaconda3\\\\lib\\\\ntpath.py'>"
      ]
     },
     "execution_count": 8,
     "metadata": {},
     "output_type": "execute_result"
    }
   ],
   "source": [
    "os.path           #Tells about current Path"
   ]
  },
  {
   "cell_type": "code",
   "execution_count": 9,
   "metadata": {},
   "outputs": [
    {
     "data": {
      "text/plain": [
       "'natural-images\\\\car_0674.jpg'"
      ]
     },
     "execution_count": 9,
     "metadata": {},
     "output_type": "execute_result"
    }
   ],
   "source": [
    "os.path.join(loc,'car_0674.jpg')  #joining the path using join command"
   ]
  },
  {
   "cell_type": "markdown",
   "metadata": {},
   "source": [
    "Extracing Labels from set of images using slicing concept"
   ]
  },
  {
   "cell_type": "code",
   "execution_count": 10,
   "metadata": {},
   "outputs": [],
   "source": [
    "import os  \n",
    "label=[]   #List for labels\n",
    "for i in os.listdir(loc):    #looping the directory\n",
    "    if i.split('_')[0]=='car':\n",
    "        label.append(2)\n",
    "    elif i.split('_')[0]=='motorbike':      #we are separating labels\n",
    "        label.append(0)\n",
    "    if i.split('_')[0]=='person':\n",
    "        label.append(0)\n"
   ]
  },
  {
   "cell_type": "markdown",
   "metadata": {},
   "source": [
    "Extracting the features now "
   ]
  },
  {
   "cell_type": "code",
   "execution_count": 11,
   "metadata": {},
   "outputs": [],
   "source": [
    "#features we require now\n",
    "features=[]     #list for features\n",
    "for i in os.listdir(loc):\n",
    "    f=cv2.imread(os.path.join(loc,i))  #joining the path of each image in the loop \n",
    "    resized_f=cv2.resize(f,(70,70))   #resizing all imgaes to reduce computation and also give each image a dimension\n",
    "    features.append(resized_f)\n",
    "    \n",
    "\n"
   ]
  },
  {
   "cell_type": "code",
   "execution_count": 12,
   "metadata": {},
   "outputs": [
    {
     "data": {
      "text/plain": [
       "(2742, 70, 70, 3)"
      ]
     },
     "execution_count": 12,
     "metadata": {},
     "output_type": "execute_result"
    }
   ],
   "source": [
    "#we got features but its a 4 dimensional array\n",
    "import numpy as np\n",
    "np.array(features).shape    #np.array used to convert features into array\n",
    "\n"
   ]
  },
  {
   "cell_type": "markdown",
   "metadata": {},
   "source": [
    "Getting Dataset into Variables"
   ]
  },
  {
   "cell_type": "code",
   "execution_count": 13,
   "metadata": {},
   "outputs": [],
   "source": [
    "#Convering Features and Labels into array so that they can be passed to models\n",
    "X=np.array(features)\n",
    "Y=np.array(label)\n",
    "X=X.reshape(2742,14700)   #converting features of 4 dimensions into d dimensions using reshape function"
   ]
  },
  {
   "cell_type": "markdown",
   "metadata": {},
   "source": [
    "Splitting the Data set into test and train"
   ]
  },
  {
   "cell_type": "code",
   "execution_count": 14,
   "metadata": {},
   "outputs": [],
   "source": [
    "from sklearn.model_selection import train_test_split\n",
    "xtrain,xtest,ytrain,ytest=train_test_split(X,Y)"
   ]
  },
  {
   "cell_type": "markdown",
   "metadata": {},
   "source": [
    "Using Decision Tree Classifier"
   ]
  },
  {
   "cell_type": "code",
   "execution_count": 15,
   "metadata": {},
   "outputs": [],
   "source": [
    "\n",
    "from sklearn.tree import DecisionTreeClassifier\n",
    "dmodel=DecisionTreeClassifier()       #dmodel as object for decision tree classifier"
   ]
  },
  {
   "cell_type": "code",
   "execution_count": 18,
   "metadata": {},
   "outputs": [
    {
     "data": {
      "text/plain": [
       "DecisionTreeClassifier(class_weight=None, criterion='gini', max_depth=None,\n",
       "                       max_features=None, max_leaf_nodes=None,\n",
       "                       min_impurity_decrease=0.0, min_impurity_split=None,\n",
       "                       min_samples_leaf=1, min_samples_split=2,\n",
       "                       min_weight_fraction_leaf=0.0, presort=False,\n",
       "                       random_state=None, splitter='best')"
      ]
     },
     "execution_count": 18,
     "metadata": {},
     "output_type": "execute_result"
    }
   ],
   "source": [
    "#passing the 2D features   \n",
    "dmodel.fit(xtrain,ytrain)            #Training the model"
   ]
  },
  {
   "cell_type": "code",
   "execution_count": 19,
   "metadata": {},
   "outputs": [
    {
     "data": {
      "text/plain": [
       "1.0"
      ]
     },
     "execution_count": 19,
     "metadata": {},
     "output_type": "execute_result"
    }
   ],
   "source": [
    "#Training Accuracy  \n",
    "#Accuracy over which you trained Model\n",
    "dmodel.score(xtrain,ytrain)  "
   ]
  },
  {
   "cell_type": "code",
   "execution_count": 21,
   "metadata": {},
   "outputs": [
    {
     "data": {
      "text/plain": [
       "0.8746355685131195"
      ]
     },
     "execution_count": 21,
     "metadata": {},
     "output_type": "execute_result"
    }
   ],
   "source": [
    "#Testing Accuracy\n",
    "#Accuracy over that which we have not trained the model\n",
    "dmodel.score(xtest,ytest)  \n",
    "#testing accuracy is low\n",
    "#overfit model : training accuracy is high testing acccuracy has difference of 20%\n",
    "#so we rejected Decision tree classifier\n"
   ]
  },
  {
   "cell_type": "markdown",
   "metadata": {},
   "source": [
    "Testing accuracy is Low for Decision tree classifier but Training Accuracy is 1 Means Model More memorizing the data\n",
    "# Decision Tree is Overfit model for this Data set "
   ]
  },
  {
   "cell_type": "markdown",
   "metadata": {},
   "source": [
    "Prediction "
   ]
  },
  {
   "cell_type": "code",
   "execution_count": 22,
   "metadata": {},
   "outputs": [
    {
     "data": {
      "text/plain": [
       "array([2])"
      ]
     },
     "execution_count": 22,
     "metadata": {},
     "output_type": "execute_result"
    }
   ],
   "source": [
    "dmodel.predict(xtest[50].reshape(1,-1)) #predicitng   \n",
    " # 2 For car "
   ]
  },
  {
   "cell_type": "code",
   "execution_count": 23,
   "metadata": {},
   "outputs": [
    {
     "data": {
      "image/png": "[encoded data removed]",
      "text/plain": [
       "<Figure size 432x288 with 1 Axes>"
      ]
     },
     "metadata": {
      "needs_background": "light"
     },
     "output_type": "display_data"
    }
   ],
   "source": [
    "#plotting the predicted Value TO check \n",
    "import matplotlib.pyplot as plt\n",
    "plt.imshow(xtest[50].reshape(70,70,3)) \n",
    "plt.show()"
   ]
  },
  {
   "cell_type": "markdown",
   "metadata": {},
   "source": [
    "Using Random Forest Classifier"
   ]
  },
  {
   "cell_type": "code",
   "execution_count": 24,
   "metadata": {
    "scrolled": true
   },
   "outputs": [
    {
     "name": "stderr",
     "output_type": "stream",
     "text": [
      "C:\\Users\\harsh\\Anaconda3\\lib\\site-packages\\sklearn\\ensemble\\forest.py:245: FutureWarning: The default value of n_estimators will change from 10 in version 0.20 to 100 in 0.22.\n",
      "  \"10 in version 0.20 to 100 in 0.22.\", FutureWarning)\n"
     ]
    },
    {
     "data": {
      "text/plain": [
       "RandomForestClassifier(bootstrap=True, class_weight=None, criterion='gini',\n",
       "                       max_depth=None, max_features='auto', max_leaf_nodes=None,\n",
       "                       min_impurity_decrease=0.0, min_impurity_split=None,\n",
       "                       min_samples_leaf=1, min_samples_split=2,\n",
       "                       min_weight_fraction_leaf=0.0, n_estimators=10,\n",
       "                       n_jobs=None, oob_score=False, random_state=None,\n",
       "                       verbose=0, warm_start=False)"
      ]
     },
     "execution_count": 24,
     "metadata": {},
     "output_type": "execute_result"
    }
   ],
   "source": [
    "from sklearn.ensemble import RandomForestClassifier\n",
    "rmodel=RandomForestClassifier()\n",
    "rmodel.fit(xtrain,ytrain)"
   ]
  },
  {
   "cell_type": "code",
   "execution_count": 25,
   "metadata": {},
   "outputs": [
    {
     "data": {
      "text/plain": [
       "0.9970817120622568"
      ]
     },
     "execution_count": 25,
     "metadata": {},
     "output_type": "execute_result"
    }
   ],
   "source": [
    "#Training Accuracy\n",
    "#Accuracy Of Random Forst over Training Data\n",
    "rmodel.score(xtrain,ytrain)"
   ]
  },
  {
   "cell_type": "code",
   "execution_count": 26,
   "metadata": {},
   "outputs": [
    {
     "data": {
      "text/plain": [
       "0.924198250728863"
      ]
     },
     "execution_count": 26,
     "metadata": {},
     "output_type": "execute_result"
    }
   ],
   "source": [
    "#Testing Accuracy\n",
    "#accuracy of random forest over test data\n",
    "rmodel.score(xtest,ytest)\n",
    "#decision tree is more memorising the data then random forest\n"
   ]
  },
  {
   "cell_type": "markdown",
   "metadata": {},
   "source": [
    "The Training and Testing accuracy are just having diffrerence  of 6% means very less error in case of random forest.\n",
    "\n",
    "# Random Forest is actually better trained than decision tree"
   ]
  },
  {
   "cell_type": "code",
   "execution_count": 40,
   "metadata": {},
   "outputs": [
    {
     "data": {
      "text/plain": [
       "array([2])"
      ]
     },
     "execution_count": 40,
     "metadata": {},
     "output_type": "execute_result"
    }
   ],
   "source": [
    "rmodel.predict(xtest[50].reshape(1,-1)) #predicitng   \n",
    " # 2 For car \n",
    " # 1 For Motorbike \n",
    " # 0 for Person"
   ]
  },
  {
   "cell_type": "code",
   "execution_count": 41,
   "metadata": {},
   "outputs": [
    {
     "data": {
      "image/png": "[encoded data removed]",
      "text/plain": [
       "<Figure size 432x288 with 1 Axes>"
      ]
     },
     "metadata": {
      "needs_background": "light"
     },
     "output_type": "display_data"
    }
   ],
   "source": [
    "#plotting the predicted Value TO check \n",
    "import matplotlib.pyplot as plt\n",
    "plt.imshow(xtest[50].reshape(70,70,3)) \n",
    "plt.show()"
   ]
  },
  {
   "cell_type": "markdown",
   "metadata": {},
   "source": [
    "Using Support Vector Machine"
   ]
  },
  {
   "cell_type": "code",
   "execution_count": 27,
   "metadata": {},
   "outputs": [
    {
     "name": "stderr",
     "output_type": "stream",
     "text": [
      "C:\\Users\\harsh\\Anaconda3\\lib\\site-packages\\sklearn\\svm\\base.py:193: FutureWarning: The default value of gamma will change from 'auto' to 'scale' in version 0.22 to account better for unscaled features. Set gamma explicitly to 'auto' or 'scale' to avoid this warning.\n",
      "  \"avoid this warning.\", FutureWarning)\n"
     ]
    },
    {
     "data": {
      "text/plain": [
       "SVC(C=1.0, cache_size=200, class_weight=None, coef0=0.0,\n",
       "    decision_function_shape='ovr', degree=3, gamma='auto_deprecated',\n",
       "    kernel='rbf', max_iter=-1, probability=False, random_state=None,\n",
       "    shrinking=True, tol=0.001, verbose=False)"
      ]
     },
     "execution_count": 27,
     "metadata": {},
     "output_type": "execute_result"
    }
   ],
   "source": [
    "from sklearn.svm import SVC\n",
    "smodel=SVC()\n",
    "smodel.fit(xtrain,ytrain)"
   ]
  },
  {
   "cell_type": "code",
   "execution_count": 28,
   "metadata": {},
   "outputs": [
    {
     "data": {
      "text/plain": [
       "1.0"
      ]
     },
     "execution_count": 28,
     "metadata": {},
     "output_type": "execute_result"
    }
   ],
   "source": [
    "#Testing Accuracy of Support Vector Machine\n",
    "#Accuracy of SVM over training Data\n",
    "smodel.score(xtrain,ytrain)\n"
   ]
  },
  {
   "cell_type": "code",
   "execution_count": 29,
   "metadata": {},
   "outputs": [
    {
     "data": {
      "text/plain": [
       "0.6443148688046647"
      ]
     },
     "execution_count": 29,
     "metadata": {},
     "output_type": "execute_result"
    }
   ],
   "source": [
    "#Training Accuracy\n",
    "smodel.score(xtest,ytest)\n",
    "\n"
   ]
  },
  {
   "cell_type": "markdown",
   "metadata": {},
   "source": [
    "Testing accuracy is very Low for SVM  but Training Accuracy is 1 Means Model More memorizing the data than getting trained.\n",
    "\n",
    "# SVM fail here because it fails here because of no proper separation of data"
   ]
  },
  {
   "cell_type": "code",
   "execution_count": 47,
   "metadata": {},
   "outputs": [
    {
     "data": {
      "text/plain": [
       "array([0])"
      ]
     },
     "execution_count": 47,
     "metadata": {},
     "output_type": "execute_result"
    }
   ],
   "source": [
    "smodel.predict(xtest[50].reshape(1,-1)) #predicitng   \n",
    " # 2 For car "
   ]
  },
  {
   "cell_type": "code",
   "execution_count": 48,
   "metadata": {},
   "outputs": [
    {
     "data": {
      "image/png": "[encoded data removed]",
      "text/plain": [
       "<Figure size 432x288 with 1 Axes>"
      ]
     },
     "metadata": {
      "needs_background": "light"
     },
     "output_type": "display_data"
    }
   ],
   "source": [
    "#plotting the predicted Value TO check \n",
    "import matplotlib.pyplot as plt\n",
    "plt.imshow(xtest[30].reshape(70,70,3)) \n",
    "plt.show()"
   ]
  },
  {
   "cell_type": "markdown",
   "metadata": {},
   "source": [
    "Using Naive baiyes"
   ]
  },
  {
   "cell_type": "code",
   "execution_count": 30,
   "metadata": {},
   "outputs": [],
   "source": [
    "# using gaussian naive bayes\n",
    "from sklearn.naive_bayes import GaussianNB \n",
    "gmodel=GaussianNB()"
   ]
  },
  {
   "cell_type": "code",
   "execution_count": 31,
   "metadata": {},
   "outputs": [
    {
     "data": {
      "text/plain": [
       "GaussianNB(priors=None, var_smoothing=1e-09)"
      ]
     },
     "execution_count": 31,
     "metadata": {},
     "output_type": "execute_result"
    }
   ],
   "source": [
    "#Trainig over data\n",
    "gmodel.fit(xtrain,ytrain) "
   ]
  },
  {
   "cell_type": "code",
   "execution_count": 32,
   "metadata": {},
   "outputs": [
    {
     "data": {
      "text/plain": [
       "0.8448443579766537"
      ]
     },
     "execution_count": 32,
     "metadata": {},
     "output_type": "execute_result"
    }
   ],
   "source": [
    "#Training Accuracy of Naive bayes\n",
    "#Accuracy of Naive Bayes over training Data\n",
    "gmodel.score(xtrain,ytrain)"
   ]
  },
  {
   "cell_type": "code",
   "execution_count": 33,
   "metadata": {},
   "outputs": [
    {
     "data": {
      "text/plain": [
       "0.8527696793002916"
      ]
     },
     "execution_count": 33,
     "metadata": {},
     "output_type": "execute_result"
    }
   ],
   "source": [
    "#Testing Accuracy\n",
    "gmodel.score(xtest,ytest)\n",
    "#it is actually being trained rather than being learning"
   ]
  },
  {
   "cell_type": "markdown",
   "metadata": {},
   "source": [
    "Training  accuracy is  Low for Naive bayes but Training Accuracy is also comparable Means Model is getting trained More memorizing the data .\n",
    "\n",
    "# Naive Bayes is also not getting the Proper Data effect  means not good for this data."
   ]
  },
  {
   "cell_type": "code",
   "execution_count": 36,
   "metadata": {},
   "outputs": [
    {
     "data": {
      "text/plain": [
       "array([2])"
      ]
     },
     "execution_count": 36,
     "metadata": {},
     "output_type": "execute_result"
    }
   ],
   "source": [
    "gmodel.predict(xtest[50].reshape(1,-1)) #predicitng   \n",
    " # 2 For car \n",
    " # 1 For motorbike\n",
    " # 0 Person"
   ]
  },
  {
   "cell_type": "code",
   "execution_count": 37,
   "metadata": {},
   "outputs": [
    {
     "data": {
      "image/png": "[encoded data removed]",
      "text/plain": [
       "<Figure size 432x288 with 1 Axes>"
      ]
     },
     "metadata": {
      "needs_background": "light"
     },
     "output_type": "display_data"
    }
   ],
   "source": [
    "#plotting the predicted Value TO check \n",
    "import matplotlib.pyplot as plt\n",
    "plt.imshow(xtest[50].reshape(70,70,3)) \n",
    "plt.show()"
   ]
  },
  {
   "cell_type": "code",
   "execution_count": null,
   "metadata": {},
   "outputs": [],
   "source": []
  },
  {
   "cell_type": "code",
   "execution_count": null,
   "metadata": {},
   "outputs": [],
   "source": []
  }
 ],
 "metadata": {
  "kernelspec": {
   "display_name": "Python 3",
   "language": "python",
   "name": "python3"
  },
  "language_info": {
   "codemirror_mode": {
    "name": "ipython",
    "version": 3
   },
   "file_extension": ".py",
   "mimetype": "text/x-python",
   "name": "python",
   "nbconvert_exporter": "python",
   "pygments_lexer": "ipython3",
   "version": "3.7.4"
  }
 },
 "nbformat": 4,
 "nbformat_minor": 2
}
